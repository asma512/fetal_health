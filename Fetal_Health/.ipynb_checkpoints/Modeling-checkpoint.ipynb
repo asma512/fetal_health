{
 "cells": [
  {
   "cell_type": "code",
   "execution_count": 1,
   "metadata": {},
   "outputs": [],
   "source": [
    "# Import Packages\n",
    "import pandas as pd\n",
    "import seaborn as sns\n",
    "import numpy as np\n",
    "import matplotlib.pyplot as plt\n",
    "\n",
    "import warnings\n",
    "warnings.filterwarnings(\"ignore\")\n",
    "\n",
    "\n",
    "# Sklearn Packages\n",
    "from sklearn.model_selection import train_test_split, GridSearchCV, cross_val_score\n",
    "from sklearn import metrics\n",
    "from sklearn.metrics import mean_squared_error, precision_score, confusion_matrix, accuracy_score,recall_score,classification_report,plot_confusion_matrix\n",
    "from sklearn.dummy import DummyClassifier\n",
    "from sklearn.preprocessing import StandardScaler\n",
    "from sklearn.neighbors import KNeighborsClassifier\n",
    "from sklearn.linear_model import LogisticRegression\n",
    "from sklearn.ensemble import RandomForestClassifier, AdaBoostClassifier\n",
    "from imblearn.over_sampling import SMOTE\n",
    "from sklearn.tree import DecisionTreeClassifier\n",
    "from xgboost import XGBClassifier\n",
    "from sklearn.exceptions import ConvergenceWarning\n",
    "from xgboost import plot_importance\n",
    "from sklearn import set_config\n",
    "set_config(print_changed_only=False)"
   ]
  },
  {
   "cell_type": "code",
   "execution_count": 2,
   "metadata": {},
   "outputs": [
    {
     "data": {
      "text/html": [
       "<div>\n",
       "<style scoped>\n",
       "    .dataframe tbody tr th:only-of-type {\n",
       "        vertical-align: middle;\n",
       "    }\n",
       "\n",
       "    .dataframe tbody tr th {\n",
       "        vertical-align: top;\n",
       "    }\n",
       "\n",
       "    .dataframe thead th {\n",
       "        text-align: right;\n",
       "    }\n",
       "</style>\n",
       "<table border=\"1\" class=\"dataframe\">\n",
       "  <thead>\n",
       "    <tr style=\"text-align: right;\">\n",
       "      <th></th>\n",
       "      <th>0</th>\n",
       "      <th>1</th>\n",
       "      <th>2</th>\n",
       "      <th>3</th>\n",
       "      <th>4</th>\n",
       "      <th>5</th>\n",
       "      <th>6</th>\n",
       "      <th>7</th>\n",
       "      <th>8</th>\n",
       "      <th>9</th>\n",
       "      <th>...</th>\n",
       "      <th>2116</th>\n",
       "      <th>2117</th>\n",
       "      <th>2118</th>\n",
       "      <th>2119</th>\n",
       "      <th>2120</th>\n",
       "      <th>2121</th>\n",
       "      <th>2122</th>\n",
       "      <th>2123</th>\n",
       "      <th>2124</th>\n",
       "      <th>2125</th>\n",
       "    </tr>\n",
       "  </thead>\n",
       "  <tbody>\n",
       "    <tr>\n",
       "      <th>baseline_FHR</th>\n",
       "      <td>120.0</td>\n",
       "      <td>132.000</td>\n",
       "      <td>133.000</td>\n",
       "      <td>134.000</td>\n",
       "      <td>132.000</td>\n",
       "      <td>134.000</td>\n",
       "      <td>134.000</td>\n",
       "      <td>122.0</td>\n",
       "      <td>122.000</td>\n",
       "      <td>122.000</td>\n",
       "      <td>...</td>\n",
       "      <td>140.000</td>\n",
       "      <td>140.000</td>\n",
       "      <td>140.000</td>\n",
       "      <td>140.000</td>\n",
       "      <td>140.000</td>\n",
       "      <td>140.000</td>\n",
       "      <td>140.000</td>\n",
       "      <td>140.000</td>\n",
       "      <td>140.000</td>\n",
       "      <td>142.000</td>\n",
       "    </tr>\n",
       "    <tr>\n",
       "      <th>accelerations</th>\n",
       "      <td>0.0</td>\n",
       "      <td>0.006</td>\n",
       "      <td>0.003</td>\n",
       "      <td>0.003</td>\n",
       "      <td>0.007</td>\n",
       "      <td>0.001</td>\n",
       "      <td>0.001</td>\n",
       "      <td>0.0</td>\n",
       "      <td>0.000</td>\n",
       "      <td>0.000</td>\n",
       "      <td>...</td>\n",
       "      <td>0.004</td>\n",
       "      <td>0.000</td>\n",
       "      <td>0.000</td>\n",
       "      <td>0.000</td>\n",
       "      <td>0.000</td>\n",
       "      <td>0.000</td>\n",
       "      <td>0.001</td>\n",
       "      <td>0.001</td>\n",
       "      <td>0.001</td>\n",
       "      <td>0.002</td>\n",
       "    </tr>\n",
       "    <tr>\n",
       "      <th>fetal_movement</th>\n",
       "      <td>0.0</td>\n",
       "      <td>0.000</td>\n",
       "      <td>0.000</td>\n",
       "      <td>0.000</td>\n",
       "      <td>0.000</td>\n",
       "      <td>0.000</td>\n",
       "      <td>0.000</td>\n",
       "      <td>0.0</td>\n",
       "      <td>0.000</td>\n",
       "      <td>0.000</td>\n",
       "      <td>...</td>\n",
       "      <td>0.000</td>\n",
       "      <td>0.000</td>\n",
       "      <td>0.000</td>\n",
       "      <td>0.000</td>\n",
       "      <td>0.000</td>\n",
       "      <td>0.000</td>\n",
       "      <td>0.000</td>\n",
       "      <td>0.000</td>\n",
       "      <td>0.000</td>\n",
       "      <td>0.002</td>\n",
       "    </tr>\n",
       "    <tr>\n",
       "      <th>uterine_contractions</th>\n",
       "      <td>0.0</td>\n",
       "      <td>0.006</td>\n",
       "      <td>0.008</td>\n",
       "      <td>0.008</td>\n",
       "      <td>0.008</td>\n",
       "      <td>0.010</td>\n",
       "      <td>0.013</td>\n",
       "      <td>0.0</td>\n",
       "      <td>0.002</td>\n",
       "      <td>0.003</td>\n",
       "      <td>...</td>\n",
       "      <td>0.004</td>\n",
       "      <td>0.008</td>\n",
       "      <td>0.006</td>\n",
       "      <td>0.007</td>\n",
       "      <td>0.005</td>\n",
       "      <td>0.007</td>\n",
       "      <td>0.007</td>\n",
       "      <td>0.007</td>\n",
       "      <td>0.006</td>\n",
       "      <td>0.008</td>\n",
       "    </tr>\n",
       "    <tr>\n",
       "      <th>light_decelerations</th>\n",
       "      <td>0.0</td>\n",
       "      <td>0.003</td>\n",
       "      <td>0.003</td>\n",
       "      <td>0.003</td>\n",
       "      <td>0.000</td>\n",
       "      <td>0.009</td>\n",
       "      <td>0.008</td>\n",
       "      <td>0.0</td>\n",
       "      <td>0.000</td>\n",
       "      <td>0.000</td>\n",
       "      <td>...</td>\n",
       "      <td>0.000</td>\n",
       "      <td>0.000</td>\n",
       "      <td>0.001</td>\n",
       "      <td>0.001</td>\n",
       "      <td>0.001</td>\n",
       "      <td>0.000</td>\n",
       "      <td>0.000</td>\n",
       "      <td>0.000</td>\n",
       "      <td>0.000</td>\n",
       "      <td>0.000</td>\n",
       "    </tr>\n",
       "    <tr>\n",
       "      <th>severe_decelerations</th>\n",
       "      <td>0.0</td>\n",
       "      <td>0.000</td>\n",
       "      <td>0.000</td>\n",
       "      <td>0.000</td>\n",
       "      <td>0.000</td>\n",
       "      <td>0.000</td>\n",
       "      <td>0.000</td>\n",
       "      <td>0.0</td>\n",
       "      <td>0.000</td>\n",
       "      <td>0.000</td>\n",
       "      <td>...</td>\n",
       "      <td>0.000</td>\n",
       "      <td>0.000</td>\n",
       "      <td>0.000</td>\n",
       "      <td>0.000</td>\n",
       "      <td>0.000</td>\n",
       "      <td>0.000</td>\n",
       "      <td>0.000</td>\n",
       "      <td>0.000</td>\n",
       "      <td>0.000</td>\n",
       "      <td>0.000</td>\n",
       "    </tr>\n",
       "    <tr>\n",
       "      <th>prolongued_decelerations</th>\n",
       "      <td>0.0</td>\n",
       "      <td>0.000</td>\n",
       "      <td>0.000</td>\n",
       "      <td>0.000</td>\n",
       "      <td>0.000</td>\n",
       "      <td>0.002</td>\n",
       "      <td>0.003</td>\n",
       "      <td>0.0</td>\n",
       "      <td>0.000</td>\n",
       "      <td>0.000</td>\n",
       "      <td>...</td>\n",
       "      <td>0.000</td>\n",
       "      <td>0.000</td>\n",
       "      <td>0.000</td>\n",
       "      <td>0.000</td>\n",
       "      <td>0.000</td>\n",
       "      <td>0.000</td>\n",
       "      <td>0.000</td>\n",
       "      <td>0.000</td>\n",
       "      <td>0.000</td>\n",
       "      <td>0.000</td>\n",
       "    </tr>\n",
       "    <tr>\n",
       "      <th>abnormal_STV</th>\n",
       "      <td>73.0</td>\n",
       "      <td>17.000</td>\n",
       "      <td>16.000</td>\n",
       "      <td>16.000</td>\n",
       "      <td>16.000</td>\n",
       "      <td>26.000</td>\n",
       "      <td>29.000</td>\n",
       "      <td>83.0</td>\n",
       "      <td>84.000</td>\n",
       "      <td>86.000</td>\n",
       "      <td>...</td>\n",
       "      <td>80.000</td>\n",
       "      <td>79.000</td>\n",
       "      <td>79.000</td>\n",
       "      <td>79.000</td>\n",
       "      <td>77.000</td>\n",
       "      <td>79.000</td>\n",
       "      <td>78.000</td>\n",
       "      <td>79.000</td>\n",
       "      <td>78.000</td>\n",
       "      <td>74.000</td>\n",
       "    </tr>\n",
       "    <tr>\n",
       "      <th>mean_STV</th>\n",
       "      <td>0.5</td>\n",
       "      <td>2.100</td>\n",
       "      <td>2.100</td>\n",
       "      <td>2.400</td>\n",
       "      <td>2.400</td>\n",
       "      <td>5.900</td>\n",
       "      <td>6.300</td>\n",
       "      <td>0.5</td>\n",
       "      <td>0.500</td>\n",
       "      <td>0.300</td>\n",
       "      <td>...</td>\n",
       "      <td>0.200</td>\n",
       "      <td>0.300</td>\n",
       "      <td>0.500</td>\n",
       "      <td>0.600</td>\n",
       "      <td>0.700</td>\n",
       "      <td>0.200</td>\n",
       "      <td>0.400</td>\n",
       "      <td>0.400</td>\n",
       "      <td>0.400</td>\n",
       "      <td>0.400</td>\n",
       "    </tr>\n",
       "    <tr>\n",
       "      <th>percentage_duration_LTV</th>\n",
       "      <td>43.0</td>\n",
       "      <td>0.000</td>\n",
       "      <td>0.000</td>\n",
       "      <td>0.000</td>\n",
       "      <td>0.000</td>\n",
       "      <td>0.000</td>\n",
       "      <td>0.000</td>\n",
       "      <td>6.0</td>\n",
       "      <td>5.000</td>\n",
       "      <td>6.000</td>\n",
       "      <td>...</td>\n",
       "      <td>36.000</td>\n",
       "      <td>20.000</td>\n",
       "      <td>26.000</td>\n",
       "      <td>27.000</td>\n",
       "      <td>17.000</td>\n",
       "      <td>25.000</td>\n",
       "      <td>22.000</td>\n",
       "      <td>20.000</td>\n",
       "      <td>27.000</td>\n",
       "      <td>36.000</td>\n",
       "    </tr>\n",
       "    <tr>\n",
       "      <th>mean_LTV</th>\n",
       "      <td>2.4</td>\n",
       "      <td>10.400</td>\n",
       "      <td>13.400</td>\n",
       "      <td>23.000</td>\n",
       "      <td>19.900</td>\n",
       "      <td>0.000</td>\n",
       "      <td>0.000</td>\n",
       "      <td>15.6</td>\n",
       "      <td>13.600</td>\n",
       "      <td>10.600</td>\n",
       "      <td>...</td>\n",
       "      <td>2.200</td>\n",
       "      <td>8.500</td>\n",
       "      <td>7.000</td>\n",
       "      <td>6.400</td>\n",
       "      <td>6.000</td>\n",
       "      <td>7.200</td>\n",
       "      <td>7.100</td>\n",
       "      <td>6.100</td>\n",
       "      <td>7.000</td>\n",
       "      <td>5.000</td>\n",
       "    </tr>\n",
       "    <tr>\n",
       "      <th>histogram_width</th>\n",
       "      <td>64.0</td>\n",
       "      <td>130.000</td>\n",
       "      <td>130.000</td>\n",
       "      <td>117.000</td>\n",
       "      <td>117.000</td>\n",
       "      <td>150.000</td>\n",
       "      <td>150.000</td>\n",
       "      <td>68.0</td>\n",
       "      <td>68.000</td>\n",
       "      <td>68.000</td>\n",
       "      <td>...</td>\n",
       "      <td>18.000</td>\n",
       "      <td>26.000</td>\n",
       "      <td>21.000</td>\n",
       "      <td>26.000</td>\n",
       "      <td>31.000</td>\n",
       "      <td>40.000</td>\n",
       "      <td>66.000</td>\n",
       "      <td>67.000</td>\n",
       "      <td>66.000</td>\n",
       "      <td>42.000</td>\n",
       "    </tr>\n",
       "    <tr>\n",
       "      <th>histogram_min</th>\n",
       "      <td>62.0</td>\n",
       "      <td>68.000</td>\n",
       "      <td>68.000</td>\n",
       "      <td>53.000</td>\n",
       "      <td>53.000</td>\n",
       "      <td>50.000</td>\n",
       "      <td>50.000</td>\n",
       "      <td>62.0</td>\n",
       "      <td>62.000</td>\n",
       "      <td>62.000</td>\n",
       "      <td>...</td>\n",
       "      <td>140.000</td>\n",
       "      <td>124.000</td>\n",
       "      <td>129.000</td>\n",
       "      <td>124.000</td>\n",
       "      <td>124.000</td>\n",
       "      <td>137.000</td>\n",
       "      <td>103.000</td>\n",
       "      <td>103.000</td>\n",
       "      <td>103.000</td>\n",
       "      <td>117.000</td>\n",
       "    </tr>\n",
       "    <tr>\n",
       "      <th>histogram_max</th>\n",
       "      <td>126.0</td>\n",
       "      <td>198.000</td>\n",
       "      <td>198.000</td>\n",
       "      <td>170.000</td>\n",
       "      <td>170.000</td>\n",
       "      <td>200.000</td>\n",
       "      <td>200.000</td>\n",
       "      <td>130.0</td>\n",
       "      <td>130.000</td>\n",
       "      <td>130.000</td>\n",
       "      <td>...</td>\n",
       "      <td>158.000</td>\n",
       "      <td>150.000</td>\n",
       "      <td>150.000</td>\n",
       "      <td>150.000</td>\n",
       "      <td>155.000</td>\n",
       "      <td>177.000</td>\n",
       "      <td>169.000</td>\n",
       "      <td>170.000</td>\n",
       "      <td>169.000</td>\n",
       "      <td>159.000</td>\n",
       "    </tr>\n",
       "    <tr>\n",
       "      <th>histogram_number_of_peaks</th>\n",
       "      <td>2.0</td>\n",
       "      <td>6.000</td>\n",
       "      <td>5.000</td>\n",
       "      <td>11.000</td>\n",
       "      <td>9.000</td>\n",
       "      <td>5.000</td>\n",
       "      <td>6.000</td>\n",
       "      <td>0.0</td>\n",
       "      <td>0.000</td>\n",
       "      <td>1.000</td>\n",
       "      <td>...</td>\n",
       "      <td>1.000</td>\n",
       "      <td>1.000</td>\n",
       "      <td>1.000</td>\n",
       "      <td>1.000</td>\n",
       "      <td>2.000</td>\n",
       "      <td>4.000</td>\n",
       "      <td>6.000</td>\n",
       "      <td>5.000</td>\n",
       "      <td>6.000</td>\n",
       "      <td>2.000</td>\n",
       "    </tr>\n",
       "    <tr>\n",
       "      <th>histogram_number_of_zeroes</th>\n",
       "      <td>0.0</td>\n",
       "      <td>1.000</td>\n",
       "      <td>1.000</td>\n",
       "      <td>0.000</td>\n",
       "      <td>0.000</td>\n",
       "      <td>3.000</td>\n",
       "      <td>3.000</td>\n",
       "      <td>0.0</td>\n",
       "      <td>0.000</td>\n",
       "      <td>0.000</td>\n",
       "      <td>...</td>\n",
       "      <td>0.000</td>\n",
       "      <td>0.000</td>\n",
       "      <td>0.000</td>\n",
       "      <td>0.000</td>\n",
       "      <td>0.000</td>\n",
       "      <td>0.000</td>\n",
       "      <td>0.000</td>\n",
       "      <td>0.000</td>\n",
       "      <td>0.000</td>\n",
       "      <td>1.000</td>\n",
       "    </tr>\n",
       "    <tr>\n",
       "      <th>histogram_mode</th>\n",
       "      <td>120.0</td>\n",
       "      <td>141.000</td>\n",
       "      <td>141.000</td>\n",
       "      <td>137.000</td>\n",
       "      <td>137.000</td>\n",
       "      <td>76.000</td>\n",
       "      <td>71.000</td>\n",
       "      <td>122.0</td>\n",
       "      <td>122.000</td>\n",
       "      <td>122.000</td>\n",
       "      <td>...</td>\n",
       "      <td>147.000</td>\n",
       "      <td>144.000</td>\n",
       "      <td>145.000</td>\n",
       "      <td>144.000</td>\n",
       "      <td>145.000</td>\n",
       "      <td>153.000</td>\n",
       "      <td>152.000</td>\n",
       "      <td>153.000</td>\n",
       "      <td>152.000</td>\n",
       "      <td>145.000</td>\n",
       "    </tr>\n",
       "    <tr>\n",
       "      <th>histogram_mean</th>\n",
       "      <td>137.0</td>\n",
       "      <td>136.000</td>\n",
       "      <td>135.000</td>\n",
       "      <td>134.000</td>\n",
       "      <td>136.000</td>\n",
       "      <td>107.000</td>\n",
       "      <td>107.000</td>\n",
       "      <td>122.0</td>\n",
       "      <td>122.000</td>\n",
       "      <td>122.000</td>\n",
       "      <td>...</td>\n",
       "      <td>148.000</td>\n",
       "      <td>143.000</td>\n",
       "      <td>142.000</td>\n",
       "      <td>141.000</td>\n",
       "      <td>143.000</td>\n",
       "      <td>150.000</td>\n",
       "      <td>148.000</td>\n",
       "      <td>148.000</td>\n",
       "      <td>147.000</td>\n",
       "      <td>143.000</td>\n",
       "    </tr>\n",
       "    <tr>\n",
       "      <th>histogram_median</th>\n",
       "      <td>121.0</td>\n",
       "      <td>140.000</td>\n",
       "      <td>138.000</td>\n",
       "      <td>137.000</td>\n",
       "      <td>138.000</td>\n",
       "      <td>107.000</td>\n",
       "      <td>106.000</td>\n",
       "      <td>123.0</td>\n",
       "      <td>123.000</td>\n",
       "      <td>123.000</td>\n",
       "      <td>...</td>\n",
       "      <td>149.000</td>\n",
       "      <td>145.000</td>\n",
       "      <td>145.000</td>\n",
       "      <td>145.000</td>\n",
       "      <td>145.000</td>\n",
       "      <td>152.000</td>\n",
       "      <td>151.000</td>\n",
       "      <td>152.000</td>\n",
       "      <td>151.000</td>\n",
       "      <td>145.000</td>\n",
       "    </tr>\n",
       "    <tr>\n",
       "      <th>histogram_variance</th>\n",
       "      <td>73.0</td>\n",
       "      <td>12.000</td>\n",
       "      <td>13.000</td>\n",
       "      <td>13.000</td>\n",
       "      <td>11.000</td>\n",
       "      <td>170.000</td>\n",
       "      <td>215.000</td>\n",
       "      <td>3.0</td>\n",
       "      <td>3.000</td>\n",
       "      <td>1.000</td>\n",
       "      <td>...</td>\n",
       "      <td>1.000</td>\n",
       "      <td>1.000</td>\n",
       "      <td>2.000</td>\n",
       "      <td>1.000</td>\n",
       "      <td>2.000</td>\n",
       "      <td>2.000</td>\n",
       "      <td>3.000</td>\n",
       "      <td>4.000</td>\n",
       "      <td>4.000</td>\n",
       "      <td>1.000</td>\n",
       "    </tr>\n",
       "    <tr>\n",
       "      <th>histogram_tendency</th>\n",
       "      <td>1.0</td>\n",
       "      <td>0.000</td>\n",
       "      <td>0.000</td>\n",
       "      <td>1.000</td>\n",
       "      <td>1.000</td>\n",
       "      <td>0.000</td>\n",
       "      <td>0.000</td>\n",
       "      <td>1.0</td>\n",
       "      <td>1.000</td>\n",
       "      <td>1.000</td>\n",
       "      <td>...</td>\n",
       "      <td>0.000</td>\n",
       "      <td>1.000</td>\n",
       "      <td>1.000</td>\n",
       "      <td>1.000</td>\n",
       "      <td>0.000</td>\n",
       "      <td>0.000</td>\n",
       "      <td>1.000</td>\n",
       "      <td>1.000</td>\n",
       "      <td>1.000</td>\n",
       "      <td>0.000</td>\n",
       "    </tr>\n",
       "    <tr>\n",
       "      <th>fetal_health</th>\n",
       "      <td>2.0</td>\n",
       "      <td>1.000</td>\n",
       "      <td>1.000</td>\n",
       "      <td>1.000</td>\n",
       "      <td>1.000</td>\n",
       "      <td>2.000</td>\n",
       "      <td>2.000</td>\n",
       "      <td>2.0</td>\n",
       "      <td>2.000</td>\n",
       "      <td>2.000</td>\n",
       "      <td>...</td>\n",
       "      <td>1.000</td>\n",
       "      <td>1.000</td>\n",
       "      <td>1.000</td>\n",
       "      <td>1.000</td>\n",
       "      <td>1.000</td>\n",
       "      <td>2.000</td>\n",
       "      <td>2.000</td>\n",
       "      <td>2.000</td>\n",
       "      <td>2.000</td>\n",
       "      <td>1.000</td>\n",
       "    </tr>\n",
       "  </tbody>\n",
       "</table>\n",
       "<p>22 rows × 2126 columns</p>\n",
       "</div>"
      ],
      "text/plain": [
       "                             0        1        2        3        4     \\\n",
       "baseline_FHR                120.0  132.000  133.000  134.000  132.000   \n",
       "accelerations                 0.0    0.006    0.003    0.003    0.007   \n",
       "fetal_movement                0.0    0.000    0.000    0.000    0.000   \n",
       "uterine_contractions          0.0    0.006    0.008    0.008    0.008   \n",
       "light_decelerations           0.0    0.003    0.003    0.003    0.000   \n",
       "severe_decelerations          0.0    0.000    0.000    0.000    0.000   \n",
       "prolongued_decelerations      0.0    0.000    0.000    0.000    0.000   \n",
       "abnormal_STV                 73.0   17.000   16.000   16.000   16.000   \n",
       "mean_STV                      0.5    2.100    2.100    2.400    2.400   \n",
       "percentage_duration_LTV      43.0    0.000    0.000    0.000    0.000   \n",
       "mean_LTV                      2.4   10.400   13.400   23.000   19.900   \n",
       "histogram_width              64.0  130.000  130.000  117.000  117.000   \n",
       "histogram_min                62.0   68.000   68.000   53.000   53.000   \n",
       "histogram_max               126.0  198.000  198.000  170.000  170.000   \n",
       "histogram_number_of_peaks     2.0    6.000    5.000   11.000    9.000   \n",
       "histogram_number_of_zeroes    0.0    1.000    1.000    0.000    0.000   \n",
       "histogram_mode              120.0  141.000  141.000  137.000  137.000   \n",
       "histogram_mean              137.0  136.000  135.000  134.000  136.000   \n",
       "histogram_median            121.0  140.000  138.000  137.000  138.000   \n",
       "histogram_variance           73.0   12.000   13.000   13.000   11.000   \n",
       "histogram_tendency            1.0    0.000    0.000    1.000    1.000   \n",
       "fetal_health                  2.0    1.000    1.000    1.000    1.000   \n",
       "\n",
       "                               5        6      7        8        9     ...  \\\n",
       "baseline_FHR                134.000  134.000  122.0  122.000  122.000  ...   \n",
       "accelerations                 0.001    0.001    0.0    0.000    0.000  ...   \n",
       "fetal_movement                0.000    0.000    0.0    0.000    0.000  ...   \n",
       "uterine_contractions          0.010    0.013    0.0    0.002    0.003  ...   \n",
       "light_decelerations           0.009    0.008    0.0    0.000    0.000  ...   \n",
       "severe_decelerations          0.000    0.000    0.0    0.000    0.000  ...   \n",
       "prolongued_decelerations      0.002    0.003    0.0    0.000    0.000  ...   \n",
       "abnormal_STV                 26.000   29.000   83.0   84.000   86.000  ...   \n",
       "mean_STV                      5.900    6.300    0.5    0.500    0.300  ...   \n",
       "percentage_duration_LTV       0.000    0.000    6.0    5.000    6.000  ...   \n",
       "mean_LTV                      0.000    0.000   15.6   13.600   10.600  ...   \n",
       "histogram_width             150.000  150.000   68.0   68.000   68.000  ...   \n",
       "histogram_min                50.000   50.000   62.0   62.000   62.000  ...   \n",
       "histogram_max               200.000  200.000  130.0  130.000  130.000  ...   \n",
       "histogram_number_of_peaks     5.000    6.000    0.0    0.000    1.000  ...   \n",
       "histogram_number_of_zeroes    3.000    3.000    0.0    0.000    0.000  ...   \n",
       "histogram_mode               76.000   71.000  122.0  122.000  122.000  ...   \n",
       "histogram_mean              107.000  107.000  122.0  122.000  122.000  ...   \n",
       "histogram_median            107.000  106.000  123.0  123.000  123.000  ...   \n",
       "histogram_variance          170.000  215.000    3.0    3.000    1.000  ...   \n",
       "histogram_tendency            0.000    0.000    1.0    1.000    1.000  ...   \n",
       "fetal_health                  2.000    2.000    2.0    2.000    2.000  ...   \n",
       "\n",
       "                               2116     2117     2118     2119     2120  \\\n",
       "baseline_FHR                140.000  140.000  140.000  140.000  140.000   \n",
       "accelerations                 0.004    0.000    0.000    0.000    0.000   \n",
       "fetal_movement                0.000    0.000    0.000    0.000    0.000   \n",
       "uterine_contractions          0.004    0.008    0.006    0.007    0.005   \n",
       "light_decelerations           0.000    0.000    0.001    0.001    0.001   \n",
       "severe_decelerations          0.000    0.000    0.000    0.000    0.000   \n",
       "prolongued_decelerations      0.000    0.000    0.000    0.000    0.000   \n",
       "abnormal_STV                 80.000   79.000   79.000   79.000   77.000   \n",
       "mean_STV                      0.200    0.300    0.500    0.600    0.700   \n",
       "percentage_duration_LTV      36.000   20.000   26.000   27.000   17.000   \n",
       "mean_LTV                      2.200    8.500    7.000    6.400    6.000   \n",
       "histogram_width              18.000   26.000   21.000   26.000   31.000   \n",
       "histogram_min               140.000  124.000  129.000  124.000  124.000   \n",
       "histogram_max               158.000  150.000  150.000  150.000  155.000   \n",
       "histogram_number_of_peaks     1.000    1.000    1.000    1.000    2.000   \n",
       "histogram_number_of_zeroes    0.000    0.000    0.000    0.000    0.000   \n",
       "histogram_mode              147.000  144.000  145.000  144.000  145.000   \n",
       "histogram_mean              148.000  143.000  142.000  141.000  143.000   \n",
       "histogram_median            149.000  145.000  145.000  145.000  145.000   \n",
       "histogram_variance            1.000    1.000    2.000    1.000    2.000   \n",
       "histogram_tendency            0.000    1.000    1.000    1.000    0.000   \n",
       "fetal_health                  1.000    1.000    1.000    1.000    1.000   \n",
       "\n",
       "                               2121     2122     2123     2124     2125  \n",
       "baseline_FHR                140.000  140.000  140.000  140.000  142.000  \n",
       "accelerations                 0.000    0.001    0.001    0.001    0.002  \n",
       "fetal_movement                0.000    0.000    0.000    0.000    0.002  \n",
       "uterine_contractions          0.007    0.007    0.007    0.006    0.008  \n",
       "light_decelerations           0.000    0.000    0.000    0.000    0.000  \n",
       "severe_decelerations          0.000    0.000    0.000    0.000    0.000  \n",
       "prolongued_decelerations      0.000    0.000    0.000    0.000    0.000  \n",
       "abnormal_STV                 79.000   78.000   79.000   78.000   74.000  \n",
       "mean_STV                      0.200    0.400    0.400    0.400    0.400  \n",
       "percentage_duration_LTV      25.000   22.000   20.000   27.000   36.000  \n",
       "mean_LTV                      7.200    7.100    6.100    7.000    5.000  \n",
       "histogram_width              40.000   66.000   67.000   66.000   42.000  \n",
       "histogram_min               137.000  103.000  103.000  103.000  117.000  \n",
       "histogram_max               177.000  169.000  170.000  169.000  159.000  \n",
       "histogram_number_of_peaks     4.000    6.000    5.000    6.000    2.000  \n",
       "histogram_number_of_zeroes    0.000    0.000    0.000    0.000    1.000  \n",
       "histogram_mode              153.000  152.000  153.000  152.000  145.000  \n",
       "histogram_mean              150.000  148.000  148.000  147.000  143.000  \n",
       "histogram_median            152.000  151.000  152.000  151.000  145.000  \n",
       "histogram_variance            2.000    3.000    4.000    4.000    1.000  \n",
       "histogram_tendency            0.000    1.000    1.000    1.000    0.000  \n",
       "fetal_health                  2.000    2.000    2.000    2.000    1.000  \n",
       "\n",
       "[22 rows x 2126 columns]"
      ]
     },
     "execution_count": 2,
     "metadata": {},
     "output_type": "execute_result"
    }
   ],
   "source": [
    "df=pd.read_csv('clean_data.csv') \n",
    "df.T"
   ]
  },
  {
   "cell_type": "markdown",
   "metadata": {},
   "source": [
    "### Split Training/Testing Datasets"
   ]
  },
  {
   "cell_type": "code",
   "execution_count": 3,
   "metadata": {},
   "outputs": [],
   "source": [
    "# setting target and features\n",
    "y = df['fetal_health']\n",
    "X = df.drop(columns=['fetal_health'])\n",
    "\n",
    "# splitting the data into train and test sets using stratify parameter to make sure class ratios \n",
    "# are distributed evenly across train and test sets\n",
    "X_train, X_test, y_train, y_test = train_test_split(X, y, test_size= 0.30, random_state=42,stratify = y)"
   ]
  },
  {
   "cell_type": "markdown",
   "metadata": {},
   "source": [
    "### Standardization of Features"
   ]
  },
  {
   "cell_type": "code",
   "execution_count": 4,
   "metadata": {},
   "outputs": [
    {
     "data": {
      "text/plain": [
       "StandardScaler(copy=True, with_mean=True, with_std=True)"
      ]
     },
     "execution_count": 4,
     "metadata": {},
     "output_type": "execute_result"
    }
   ],
   "source": [
    "#standared scaler for predicting features\n",
    "scaler = StandardScaler()  \n",
    "scaler.fit(X_train)"
   ]
  },
  {
   "cell_type": "markdown",
   "metadata": {},
   "source": [
    "### Evaluation Metric"
   ]
  },
  {
   "cell_type": "code",
   "execution_count": 5,
   "metadata": {},
   "outputs": [],
   "source": [
    "#evaluation metric \n",
    "def evaluation(y_test, y_pred):\n",
    "    print('Accuracy: '  + str(metrics.accuracy_score(y_test, y_pred)))\n",
    "    print('Recall: ' + str(metrics.recall_score(y_test, y_pred)))\n",
    "    print('F1 Score: ' + str(metrics.f1_score(y_test, y_pred)))\n",
    "    print('Precision: ' + str(metrics.precision_score(y_test, y_pred)))"
   ]
  },
  {
   "cell_type": "markdown",
   "metadata": {},
   "source": [
    "### Feature Importance"
   ]
  },
  {
   "cell_type": "code",
   "execution_count": 6,
   "metadata": {},
   "outputs": [],
   "source": [
    "# plotting feature importances\n",
    "def plot_feature_importances(model):\n",
    "    n_features = X_train.shape[1]\n",
    "    plt.figure(figsize=(8,8))\n",
    "    plt.barh(range(n_features), model.feature_importances_, align='center') \n",
    "    plt.yticks(np.arange(n_features), X_train.columns.values) \n",
    "    plt.xlabel('Feature Importance')\n",
    "    plt.ylabel('Feature')"
   ]
  },
  {
   "cell_type": "markdown",
   "metadata": {},
   "source": [
    "### Stratified Dataset"
   ]
  },
  {
   "cell_type": "markdown",
   "metadata": {},
   "source": [
    "KNN model yielded an f1-score of 0.94, recall of 0.95, and precision of 0.93.\n",
    "\n",
    "Logistic regression model yielded an f1-score of 0.92, recall of 0.93, and precision of 0.91\n",
    "\n",
    "Decision tree model yielded an f1-score of 0.95, recall of 0.93, precision of 0.97.\n",
    "\n",
    "Random Forest yielded an f1-score of 0.97, recall of 0.96, precision of 0.97."
   ]
  },
  {
   "cell_type": "markdown",
   "metadata": {},
   "source": [
    "### KNN"
   ]
  },
  {
   "cell_type": "code",
   "execution_count": 7,
   "metadata": {},
   "outputs": [
    {
     "name": "stdout",
     "output_type": "stream",
     "text": [
      "Accuracy: 0.9169278996865203\n",
      "Recall: 0.9617706237424547\n",
      "F1 Score: 0.9474727452923687\n",
      "Precision: 0.93359375\n"
     ]
    },
    {
     "data": {
      "image/png": "[encoded data removed]",
      "text/plain": [
       "<Figure size 432x288 with 2 Axes>"
      ]
     },
     "metadata": {
      "needs_background": "light"
     },
     "output_type": "display_data"
    }
   ],
   "source": [
    "knn = KNeighborsClassifier()\n",
    "knn = knn.fit(X_train,y_train)\n",
    "y_pred = knn.predict(X_test)\n",
    "evaluation(y_test,y_pred)\n",
    "plot_confusion_matrix(knn, X_test, y_test,cmap=\"Blues\")\n",
    "plt.show()"
   ]
  },
  {
   "cell_type": "markdown",
   "metadata": {},
   "source": [
    "### Logisitic Regression"
   ]
  },
  {
   "cell_type": "code",
   "execution_count": 8,
   "metadata": {},
   "outputs": [
    {
     "name": "stdout",
     "output_type": "stream",
     "text": [
      "Accuracy: 0.8871473354231975\n",
      "Recall: 0.937625754527163\n",
      "F1 Score: 0.9282868525896415\n",
      "Precision: 0.9191321499013807\n"
     ]
    },
    {
     "data": {
      "image/png": "[encoded data removed]",
      "text/plain": [
       "<Figure size 432x288 with 2 Axes>"
      ]
     },
     "metadata": {
      "needs_background": "light"
     },
     "output_type": "display_data"
    }
   ],
   "source": [
    "lr = LogisticRegression(random_state=42)\n",
    "lr = lr.fit(X_train,y_train)\n",
    "y_pred = lr.predict(X_test)\n",
    "evaluation(y_test,y_pred)\n",
    "plot_confusion_matrix(lr, X_test, y_test,cmap=\"Blues\")\n",
    "plt.show()"
   ]
  },
  {
   "cell_type": "markdown",
   "metadata": {},
   "source": [
    "### Decision Tree"
   ]
  },
  {
   "cell_type": "code",
   "execution_count": 9,
   "metadata": {},
   "outputs": [
    {
     "name": "stdout",
     "output_type": "stream",
     "text": [
      "Accuracy: 0.9357366771159875\n",
      "Recall: 0.959758551307847\n",
      "F1 Score: 0.9587939698492463\n",
      "Precision: 0.9578313253012049\n"
     ]
    },
    {
     "data": {
      "image/png": "[encoded data removed]",
      "text/plain": [
       "<Figure size 432x288 with 2 Axes>"
      ]
     },
     "metadata": {
      "needs_background": "light"
     },
     "output_type": "display_data"
    }
   ],
   "source": [
    "dt = DecisionTreeClassifier(random_state=42)\n",
    "dt = dt.fit(X_train,y_train)\n",
    "y_pred = dt.predict(X_test)\n",
    "evaluation(y_test,y_pred)\n",
    "plot_confusion_matrix(dt, X_test, y_test,cmap=\"Blues\")\n",
    "plt.show()"
   ]
  },
  {
   "cell_type": "markdown",
   "metadata": {},
   "source": [
    "### Random Forest"
   ]
  },
  {
   "cell_type": "code",
   "execution_count": 10,
   "metadata": {},
   "outputs": [
    {
     "name": "stdout",
     "output_type": "stream",
     "text": [
      "Accuracy: 0.9482758620689655\n",
      "Recall: 0.9698189134808853\n",
      "F1 Score: 0.9669007021063191\n",
      "Precision: 0.964\n"
     ]
    },
    {
     "data": {
      "image/png": "[encoded data removed]",
      "text/plain": [
       "<Figure size 432x288 with 2 Axes>"
      ]
     },
     "metadata": {
      "needs_background": "light"
     },
     "output_type": "display_data"
    }
   ],
   "source": [
    "rfc = RandomForestClassifier(random_state=42)\n",
    "rfc = rfc.fit(X_train,y_train)\n",
    "y_pred = rfc.predict(X_test)\n",
    "evaluation(y_test,y_pred)\n",
    "plot_confusion_matrix(rfc, X_test, y_test,cmap=\"Blues\")\n",
    "plt.show()"
   ]
  },
  {
   "cell_type": "markdown",
   "metadata": {},
   "source": [
    "### Imbalance"
   ]
  },
  {
   "cell_type": "markdown",
   "metadata": {},
   "source": [
    "We used smote or Synthetic Minority Oversampling Technique to balance the dataset by oversampling the minority class. The minority class is over-sampled by taking each minority class sample and introducing synthetic examples along the line segments joining any or all of the k minority class nearest neighbors (Carnegie Mellon University)."
   ]
  },
  {
   "cell_type": "code",
   "execution_count": 11,
   "metadata": {},
   "outputs": [],
   "source": [
    "X_train, X_test, y_train, y_test = train_test_split(X, y, test_size= 0.30, random_state=42)"
   ]
  },
  {
   "cell_type": "code",
   "execution_count": 12,
   "metadata": {},
   "outputs": [],
   "source": [
    "#Used smote to oversample minority class\n",
    "sm = SMOTE(random_state=42)\n",
    "smX_train, smy_train = sm.fit_resample(X_train, y_train)"
   ]
  },
  {
   "cell_type": "markdown",
   "metadata": {},
   "source": [
    "### Decision Tree"
   ]
  },
  {
   "cell_type": "markdown",
   "metadata": {},
   "source": [
    "With the SMOTE data set, decision tree produced very good metrics with all default hyperparamers. The most important features where abnormal_short_term_variability,prolongued_declerations"
   ]
  },
  {
   "cell_type": "code",
   "execution_count": 16,
   "metadata": {},
   "outputs": [
    {
     "name": "stdout",
     "output_type": "stream",
     "text": [
      "Accuracy: 0.9357366771159875\n",
      "Recall: 0.9516129032258065\n",
      "F1 Score: 0.9583756345177665\n",
      "Precision: 0.9652351738241309\n"
     ]
    },
    {
     "data": {
      "image/png": "[encoded data removed]",
      "text/plain": [
       "<Figure size 432x288 with 2 Axes>"
      ]
     },
     "metadata": {
      "needs_background": "light"
     },
     "output_type": "display_data"
    }
   ],
   "source": [
    "sm_dt = DecisionTreeClassifier(random_state=42)\n",
    "sm_dt.fit(smX_train,smy_train)\n",
    "y_pred = sm_dt.predict(X_test)\n",
    "evaluation(y_test, y_pred)\n",
    "plot_confusion_matrix(sm_dt, X_test, y_test,cmap=\"Blues\")\n",
    "plt.show()"
   ]
  },
  {
   "cell_type": "code",
   "execution_count": 17,
   "metadata": {},
   "outputs": [
    {
     "data": {
      "image/png": "[encoded data removed]",
      "text/plain": [
       "<Figure size 576x576 with 1 Axes>"
      ]
     },
     "metadata": {
      "needs_background": "light"
     },
     "output_type": "display_data"
    }
   ],
   "source": [
    "plot_feature_importances(sm_dt)\n",
    "plt.tight_layout()"
   ]
  },
  {
   "cell_type": "markdown",
   "metadata": {},
   "source": [
    "### Random Forest"
   ]
  },
  {
   "cell_type": "markdown",
   "metadata": {},
   "source": [
    "Random Forest performed the best compared to decision tree"
   ]
  },
  {
   "cell_type": "code",
   "execution_count": 18,
   "metadata": {},
   "outputs": [
    {
     "name": "stdout",
     "output_type": "stream",
     "text": [
      "Accuracy: 0.945141065830721\n",
      "Recall: 0.9616935483870968\n",
      "F1 Score: 0.9646107178968655\n",
      "Precision: 0.9675456389452333\n"
     ]
    },
    {
     "data": {
      "image/png": "[encoded data removed]",
      "text/plain": [
       "<Figure size 432x288 with 2 Axes>"
      ]
     },
     "metadata": {
      "needs_background": "light"
     },
     "output_type": "display_data"
    }
   ],
   "source": [
    "sm_rf =RandomForestClassifier(random_state=42)\n",
    "sm_rf.fit(smX_train,smy_train)\n",
    "y_pred = sm_rf.predict(X_test)\n",
    "evaluation(y_test, y_pred)\n",
    "plot_confusion_matrix(sm_rf, X_test, y_test,cmap=\"Blues\")\n",
    "plt.show()"
   ]
  },
  {
   "cell_type": "code",
   "execution_count": 19,
   "metadata": {},
   "outputs": [
    {
     "data": {
      "image/png": "[encoded data removed]",
      "text/plain": [
       "<Figure size 576x576 with 1 Axes>"
      ]
     },
     "metadata": {
      "needs_background": "light"
     },
     "output_type": "display_data"
    }
   ],
   "source": [
    "plot_feature_importances(sm_rf)\n",
    "plt.tight_layout()"
   ]
  },
  {
   "cell_type": "markdown",
   "metadata": {},
   "source": [
    "### Grid Search Random Forest\n",
    "\n",
    "- I ran a gridsearch on the random forest to identify what the best hyperparamters where for the model. I checked several estimator sizes, max depth and min weight fraction leaf to find the ideal parameters."
   ]
  },
  {
   "cell_type": "code",
   "execution_count": 20,
   "metadata": {},
   "outputs": [],
   "source": [
    "parameters = {\n",
    "    'n_estimators': [25,50,100,300,500],\n",
    "    'criterion' : ['gini','entropy'],\n",
    "    'max_depth' : [8,9,10,11,12],\n",
    "    'max_features' : ['sqrt'],\n",
    "    'min_weight_fraction_leaf' : [0,0.1,0.3,0.5],\n",
    "    'random_state':[42]\n",
    "}"
   ]
  },
  {
   "cell_type": "code",
   "execution_count": 21,
   "metadata": {},
   "outputs": [],
   "source": [
    "grid_tree=GridSearchCV(RandomForestClassifier(), parameters, cv=15, scoring='f1', verbose=1, n_jobs=-1)"
   ]
  },
  {
   "cell_type": "code",
   "execution_count": 22,
   "metadata": {
    "scrolled": true
   },
   "outputs": [
    {
     "name": "stdout",
     "output_type": "stream",
     "text": [
      "Fitting 15 folds for each of 200 candidates, totalling 3000 fits\n"
     ]
    },
    {
     "data": {
      "text/plain": [
       "GridSearchCV(cv=15, error_score=nan,\n",
       "             estimator=RandomForestClassifier(bootstrap=True, ccp_alpha=0.0,\n",
       "                                              class_weight=None,\n",
       "                                              criterion='gini', max_depth=None,\n",
       "                                              max_features='auto',\n",
       "                                              max_leaf_nodes=None,\n",
       "                                              max_samples=None,\n",
       "                                              min_impurity_decrease=0.0,\n",
       "                                              min_samples_leaf=1,\n",
       "                                              min_samples_split=2,\n",
       "                                              min_weight_fraction_leaf=0.0,\n",
       "                                              n_estimators=100, n_jobs=None,\n",
       "                                              oob_score=False,\n",
       "                                              random_state=None, verbose=0,\n",
       "                                              warm_start=False),\n",
       "             n_jobs=-1,\n",
       "             param_grid={'criterion': ['gini', 'entropy'],\n",
       "                         'max_depth': [8, 9, 10, 11, 12],\n",
       "                         'max_features': ['sqrt'],\n",
       "                         'min_weight_fraction_leaf': [0, 0.1, 0.3, 0.5],\n",
       "                         'n_estimators': [25, 50, 100, 300, 500],\n",
       "                         'random_state': [42]},\n",
       "             pre_dispatch='2*n_jobs', refit=True, return_train_score=False,\n",
       "             scoring='f1', verbose=1)"
      ]
     },
     "execution_count": 22,
     "metadata": {},
     "output_type": "execute_result"
    }
   ],
   "source": [
    "grid_tree.fit(smX_train, smy_train)"
   ]
  },
  {
   "cell_type": "code",
   "execution_count": 23,
   "metadata": {},
   "outputs": [
    {
     "name": "stdout",
     "output_type": "stream",
     "text": [
      "0.9780443933226746\n",
      "{'criterion': 'gini', 'max_depth': 12, 'max_features': 'sqrt', 'min_weight_fraction_leaf': 0, 'n_estimators': 100, 'random_state': 42}\n",
      "RandomForestClassifier(bootstrap=True, ccp_alpha=0.0, class_weight=None,\n",
      "                       criterion='gini', max_depth=12, max_features='sqrt',\n",
      "                       max_leaf_nodes=None, max_samples=None,\n",
      "                       min_impurity_decrease=0.0, min_samples_leaf=1,\n",
      "                       min_samples_split=2, min_weight_fraction_leaf=0,\n",
      "                       n_estimators=100, n_jobs=None, oob_score=False,\n",
      "                       random_state=42, verbose=0, warm_start=False)\n"
     ]
    }
   ],
   "source": [
    "print(grid_tree.best_score_)\n",
    "print(grid_tree.best_params_)\n",
    "print(grid_tree.best_estimator_)"
   ]
  },
  {
   "cell_type": "code",
   "execution_count": 24,
   "metadata": {},
   "outputs": [
    {
     "name": "stdout",
     "output_type": "stream",
     "text": [
      "Accuracy: 0.9498432601880877\n",
      "Recall: 0.9657258064516129\n",
      "F1 Score: 0.9676767676767677\n",
      "Precision: 0.9696356275303644\n"
     ]
    },
    {
     "data": {
      "image/png": "[encoded data removed]",
      "text/plain": [
       "<Figure size 432x288 with 2 Axes>"
      ]
     },
     "metadata": {
      "needs_background": "light"
     },
     "output_type": "display_data"
    }
   ],
   "source": [
    "y_pred = grid_tree.best_estimator_.predict(X_test)\n",
    "evaluation(y_test,y_pred)\n",
    "plot_confusion_matrix(grid_tree, X_test, y_test,cmap=\"Blues\")\n",
    "plt.show()"
   ]
  },
  {
   "cell_type": "markdown",
   "metadata": {},
   "source": [
    "The best parameters for the random forest was a max depth of 12, min weight fraction leave of 0, and 100 estimators. "
   ]
  },
  {
   "cell_type": "code",
   "execution_count": 25,
   "metadata": {},
   "outputs": [
    {
     "data": {
      "text/plain": [
       "<AxesSubplot:>"
      ]
     },
     "execution_count": 25,
     "metadata": {},
     "output_type": "execute_result"
    },
    {
     "data": {
      "image/png": "[encoded data removed]",
      "text/plain": [
       "<Figure size 432x288 with 1 Axes>"
      ]
     },
     "metadata": {
      "needs_background": "light"
     },
     "output_type": "display_data"
    }
   ],
   "source": [
    "pd.Series(grid_tree.best_estimator_.feature_importances_, index=X.columns).nlargest(10).plot(kind='barh')"
   ]
  },
  {
   "cell_type": "markdown",
   "metadata": {},
   "source": [
    "The graph above shows the top ten importanct features for our grid search random foret model. Abnormal_short_term_variatability, acceleration and mean_value_of_short_term_varitability seem to be key factors in health classification."
   ]
  },
  {
   "cell_type": "markdown",
   "metadata": {},
   "source": [
    "### Conclusion\n",
    "\n",
    "The grid search random forest produced the overall best model. It has the highest recall and accuracy score. When graphing the featrue importance, the most important features where abnormal_short_term_variatability,accelerationns,and mean_stv.  We can infer from this that extended rapid extreme changes in fetal heart rate are detrimental to fetal health.\n",
    "\n",
    "With this model, we can greatly reduce FP and FN so the need for uncessary surgery is avoided and urgent care is provided when needed."
   ]
  }
 ],
 "metadata": {
  "kernelspec": {
   "display_name": "Python 3",
   "language": "python",
   "name": "python3"
  },
  "language_info": {
   "codemirror_mode": {
    "name": "ipython",
    "version": 3
   },
   "file_extension": ".py",
   "mimetype": "text/x-python",
   "name": "python",
   "nbconvert_exporter": "python",
   "pygments_lexer": "ipython3",
   "version": "3.8.5"
  }
 },
 "nbformat": 4,
 "nbformat_minor": 4
}
